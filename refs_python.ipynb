{
 "cells": [
  {
   "cell_type": "markdown",
   "id": "d53484d5-1377-446b-8a61-02355b28e193",
   "metadata": {},
   "source": [
    "# Guia de referência de funções mais usadas no python"
   ]
  },
  {
   "cell_type": "markdown",
   "id": "62e45105-6138-4161-bfb8-f8b06eca29fd",
   "metadata": {},
   "source": [
    "futuro índice "
   ]
  },
  {
   "cell_type": "markdown",
   "id": "4c7af0a8-e0c7-468a-8616-91ccbaaf045e",
   "metadata": {},
   "source": [
    "## Transcrição de áudios"
   ]
  },
  {
   "cell_type": "markdown",
   "id": "e143f9ef-c40e-42bd-8704-a1655ccc0f02",
   "metadata": {},
   "source": [
    "Obs: Usa API externa do google"
   ]
  },
  {
   "cell_type": "code",
   "execution_count": 19,
   "id": "d22bd2d0-9391-4c07-9908-1004b0f24b74",
   "metadata": {},
   "outputs": [
    {
     "name": "stdout",
     "output_type": "stream",
     "text": [
      "Transcrição: testando testando vou testar a biblioteca de speech\n"
     ]
    }
   ],
   "source": [
    "import speech_recognition as sr\n",
    "\n",
    "recognizer = sr.Recognizer()\n",
    "audio_file = 'XXXXX.wav' \n",
    "\n",
    "with sr.AudioFile(audio_file) as source:\n",
    "    audio_data = recognizer.record(source) \n",
    "\n",
    "try:\n",
    "    texto = recognizer.recognize_google(audio_data, language='pt-BR')\n",
    "    print(\"Transcrição: \" + texto)\n",
    "except sr.UnknownValueError:\n",
    "    print(\"O áudio não pôde ser entendido.\")\n",
    "except sr.RequestError as e:\n",
    "    print(f\"Erro ao solicitar resultados; {e}\")"
   ]
  },
  {
   "cell_type": "markdown",
   "id": "8d68623c-69c4-46ab-b488-2c4e7b6b3cb9",
   "metadata": {},
   "source": [
    "## Funções pandas"
   ]
  },
  {
   "cell_type": "code",
   "execution_count": 3,
   "id": "fb598bfb-2b79-47e0-ad7c-379e1748c1ac",
   "metadata": {},
   "outputs": [
    {
     "ename": "FileNotFoundError",
     "evalue": "[Errno 2] No such file or directory: 'caminho/para/o/arquivo.xlsx'",
     "output_type": "error",
     "traceback": [
      "\u001b[1;31m---------------------------------------------------------------------------\u001b[0m",
      "\u001b[1;31mFileNotFoundError\u001b[0m                         Traceback (most recent call last)",
      "Cell \u001b[1;32mIn[3], line 4\u001b[0m\n\u001b[0;32m      1\u001b[0m \u001b[38;5;28;01mimport\u001b[39;00m \u001b[38;5;21;01mpandas\u001b[39;00m \u001b[38;5;28;01mas\u001b[39;00m \u001b[38;5;21;01mpd\u001b[39;00m\n\u001b[0;32m      3\u001b[0m \u001b[38;5;66;03m# 1. Ler um arquivo Excel\u001b[39;00m\n\u001b[1;32m----> 4\u001b[0m df \u001b[38;5;241m=\u001b[39m pd\u001b[38;5;241m.\u001b[39mread_excel(\u001b[38;5;124m'\u001b[39m\u001b[38;5;124mcaminho/para/o/arquivo.xlsx\u001b[39m\u001b[38;5;124m'\u001b[39m)  \n\u001b[0;32m      6\u001b[0m \u001b[38;5;66;03m# 2. Renomear colunas\u001b[39;00m\n\u001b[0;32m      7\u001b[0m df\u001b[38;5;241m.\u001b[39mrename(columns\u001b[38;5;241m=\u001b[39m{\u001b[38;5;124m'\u001b[39m\u001b[38;5;124mcoluna_antiga\u001b[39m\u001b[38;5;124m'\u001b[39m: \u001b[38;5;124m'\u001b[39m\u001b[38;5;124mnova_coluna\u001b[39m\u001b[38;5;124m'\u001b[39m}, inplace\u001b[38;5;241m=\u001b[39m\u001b[38;5;28;01mTrue\u001b[39;00m)  \n",
      "File \u001b[1;32m~\\AppData\\Local\\anaconda3\\Lib\\site-packages\\pandas\\io\\excel\\_base.py:495\u001b[0m, in \u001b[0;36mread_excel\u001b[1;34m(io, sheet_name, header, names, index_col, usecols, dtype, engine, converters, true_values, false_values, skiprows, nrows, na_values, keep_default_na, na_filter, verbose, parse_dates, date_parser, date_format, thousands, decimal, comment, skipfooter, storage_options, dtype_backend, engine_kwargs)\u001b[0m\n\u001b[0;32m    493\u001b[0m \u001b[38;5;28;01mif\u001b[39;00m \u001b[38;5;129;01mnot\u001b[39;00m \u001b[38;5;28misinstance\u001b[39m(io, ExcelFile):\n\u001b[0;32m    494\u001b[0m     should_close \u001b[38;5;241m=\u001b[39m \u001b[38;5;28;01mTrue\u001b[39;00m\n\u001b[1;32m--> 495\u001b[0m     io \u001b[38;5;241m=\u001b[39m ExcelFile(\n\u001b[0;32m    496\u001b[0m         io,\n\u001b[0;32m    497\u001b[0m         storage_options\u001b[38;5;241m=\u001b[39mstorage_options,\n\u001b[0;32m    498\u001b[0m         engine\u001b[38;5;241m=\u001b[39mengine,\n\u001b[0;32m    499\u001b[0m         engine_kwargs\u001b[38;5;241m=\u001b[39mengine_kwargs,\n\u001b[0;32m    500\u001b[0m     )\n\u001b[0;32m    501\u001b[0m \u001b[38;5;28;01melif\u001b[39;00m engine \u001b[38;5;129;01mand\u001b[39;00m engine \u001b[38;5;241m!=\u001b[39m io\u001b[38;5;241m.\u001b[39mengine:\n\u001b[0;32m    502\u001b[0m     \u001b[38;5;28;01mraise\u001b[39;00m \u001b[38;5;167;01mValueError\u001b[39;00m(\n\u001b[0;32m    503\u001b[0m         \u001b[38;5;124m\"\u001b[39m\u001b[38;5;124mEngine should not be specified when passing \u001b[39m\u001b[38;5;124m\"\u001b[39m\n\u001b[0;32m    504\u001b[0m         \u001b[38;5;124m\"\u001b[39m\u001b[38;5;124man ExcelFile - ExcelFile already has the engine set\u001b[39m\u001b[38;5;124m\"\u001b[39m\n\u001b[0;32m    505\u001b[0m     )\n",
      "File \u001b[1;32m~\\AppData\\Local\\anaconda3\\Lib\\site-packages\\pandas\\io\\excel\\_base.py:1550\u001b[0m, in \u001b[0;36mExcelFile.__init__\u001b[1;34m(self, path_or_buffer, engine, storage_options, engine_kwargs)\u001b[0m\n\u001b[0;32m   1548\u001b[0m     ext \u001b[38;5;241m=\u001b[39m \u001b[38;5;124m\"\u001b[39m\u001b[38;5;124mxls\u001b[39m\u001b[38;5;124m\"\u001b[39m\n\u001b[0;32m   1549\u001b[0m \u001b[38;5;28;01melse\u001b[39;00m:\n\u001b[1;32m-> 1550\u001b[0m     ext \u001b[38;5;241m=\u001b[39m inspect_excel_format(\n\u001b[0;32m   1551\u001b[0m         content_or_path\u001b[38;5;241m=\u001b[39mpath_or_buffer, storage_options\u001b[38;5;241m=\u001b[39mstorage_options\n\u001b[0;32m   1552\u001b[0m     )\n\u001b[0;32m   1553\u001b[0m     \u001b[38;5;28;01mif\u001b[39;00m ext \u001b[38;5;129;01mis\u001b[39;00m \u001b[38;5;28;01mNone\u001b[39;00m:\n\u001b[0;32m   1554\u001b[0m         \u001b[38;5;28;01mraise\u001b[39;00m \u001b[38;5;167;01mValueError\u001b[39;00m(\n\u001b[0;32m   1555\u001b[0m             \u001b[38;5;124m\"\u001b[39m\u001b[38;5;124mExcel file format cannot be determined, you must specify \u001b[39m\u001b[38;5;124m\"\u001b[39m\n\u001b[0;32m   1556\u001b[0m             \u001b[38;5;124m\"\u001b[39m\u001b[38;5;124man engine manually.\u001b[39m\u001b[38;5;124m\"\u001b[39m\n\u001b[0;32m   1557\u001b[0m         )\n",
      "File \u001b[1;32m~\\AppData\\Local\\anaconda3\\Lib\\site-packages\\pandas\\io\\excel\\_base.py:1402\u001b[0m, in \u001b[0;36minspect_excel_format\u001b[1;34m(content_or_path, storage_options)\u001b[0m\n\u001b[0;32m   1399\u001b[0m \u001b[38;5;28;01mif\u001b[39;00m \u001b[38;5;28misinstance\u001b[39m(content_or_path, \u001b[38;5;28mbytes\u001b[39m):\n\u001b[0;32m   1400\u001b[0m     content_or_path \u001b[38;5;241m=\u001b[39m BytesIO(content_or_path)\n\u001b[1;32m-> 1402\u001b[0m \u001b[38;5;28;01mwith\u001b[39;00m get_handle(\n\u001b[0;32m   1403\u001b[0m     content_or_path, \u001b[38;5;124m\"\u001b[39m\u001b[38;5;124mrb\u001b[39m\u001b[38;5;124m\"\u001b[39m, storage_options\u001b[38;5;241m=\u001b[39mstorage_options, is_text\u001b[38;5;241m=\u001b[39m\u001b[38;5;28;01mFalse\u001b[39;00m\n\u001b[0;32m   1404\u001b[0m ) \u001b[38;5;28;01mas\u001b[39;00m handle:\n\u001b[0;32m   1405\u001b[0m     stream \u001b[38;5;241m=\u001b[39m handle\u001b[38;5;241m.\u001b[39mhandle\n\u001b[0;32m   1406\u001b[0m     stream\u001b[38;5;241m.\u001b[39mseek(\u001b[38;5;241m0\u001b[39m)\n",
      "File \u001b[1;32m~\\AppData\\Local\\anaconda3\\Lib\\site-packages\\pandas\\io\\common.py:882\u001b[0m, in \u001b[0;36mget_handle\u001b[1;34m(path_or_buf, mode, encoding, compression, memory_map, is_text, errors, storage_options)\u001b[0m\n\u001b[0;32m    873\u001b[0m         handle \u001b[38;5;241m=\u001b[39m \u001b[38;5;28mopen\u001b[39m(\n\u001b[0;32m    874\u001b[0m             handle,\n\u001b[0;32m    875\u001b[0m             ioargs\u001b[38;5;241m.\u001b[39mmode,\n\u001b[1;32m   (...)\u001b[0m\n\u001b[0;32m    878\u001b[0m             newline\u001b[38;5;241m=\u001b[39m\u001b[38;5;124m\"\u001b[39m\u001b[38;5;124m\"\u001b[39m,\n\u001b[0;32m    879\u001b[0m         )\n\u001b[0;32m    880\u001b[0m     \u001b[38;5;28;01melse\u001b[39;00m:\n\u001b[0;32m    881\u001b[0m         \u001b[38;5;66;03m# Binary mode\u001b[39;00m\n\u001b[1;32m--> 882\u001b[0m         handle \u001b[38;5;241m=\u001b[39m \u001b[38;5;28mopen\u001b[39m(handle, ioargs\u001b[38;5;241m.\u001b[39mmode)\n\u001b[0;32m    883\u001b[0m     handles\u001b[38;5;241m.\u001b[39mappend(handle)\n\u001b[0;32m    885\u001b[0m \u001b[38;5;66;03m# Convert BytesIO or file objects passed with an encoding\u001b[39;00m\n",
      "\u001b[1;31mFileNotFoundError\u001b[0m: [Errno 2] No such file or directory: 'caminho/para/o/arquivo.xlsx'"
     ]
    }
   ],
   "source": [
    "# Instalando bibloteca e importando ela\n",
    "#pip install pandas\n",
    "\n",
    "import pandas as pd\n",
    "\n",
    "# 1. Ler um arquivo Excel\n",
    "df = pd.read_excel('caminho/para/o/arquivo.xlsx')  \n",
    "\n",
    "# 2. Renomear colunas\n",
    "df.rename(columns={'coluna_antiga': 'nova_coluna'}, inplace=True)  \n",
    "\n",
    "# 3. Obter a contagem de valores únicos em uma coluna\n",
    "contagem = df['coluna'].value_counts()  \n",
    "\n",
    "# 4. Agrupar dados\n",
    "df_grouped = df.groupby('linha')['coluna'].sum()  # função de agregação - sum,mean,std...\n",
    "sumario = df[['coluna1', 'coluna2']].agg(['mean', 'max', 'min', 'sum']) # outro jeito\n",
    "\n",
    "# 5. Limpar espaços em branco de uma coluna\n",
    "df['coluna'] = df['coluna'].str.strip()  \n",
    "\n",
    "# 6. Encontrar e substituir valores\n",
    "df['coluna'] = df['coluna'].replace({'valor_antigo': 'valor_novo'})  \n",
    "\n",
    "# 7. Obter o tamanho de uma coluna (número de elementos)\n",
    "tamanho = len(df['coluna'])  \n",
    "\n",
    "# 8. Filtrar dados com base em uma condição\n",
    "df_filtrado = df[df['coluna'] > 10]  \n",
    "\n",
    "# 9. Criar uma nova coluna com base em condições\n",
    "df['nova_coluna'] = df['coluna'].apply(lambda x: 'alto' if x > 10 else 'baixo')  \n",
    "\n",
    "# 10. Converter uma coluna para um tipo específico\n",
    "df['coluna'] = df['coluna'].astype(float)  \n",
    "\n",
    "# 11. Remover colunas\n",
    "df.drop(columns=['coluna_para_remover'], inplace=True) \n",
    "\n",
    "# 12. Resetar o índice\n",
    "df.reset_index(drop=True, inplace=True) \n",
    "\n",
    "# 13. Salvar o DataFrame em um arquivo CSV\n",
    "df.to_csv('caminho/para/o/arquivo.csv', index=False)  \n",
    "\n",
    "# 14. Ordenar valores\n",
    "df = df.sort_values(by='coluna', ascending=True) \n",
    "\n",
    "# 15. Converter valores de uma coluna para numérico\n",
    "df['coluna'] = pd.to_numeric(df['coluna'], errors='coerce')  \n",
    "\n",
    "# 16. Filtrar\n",
    "df_loc = df.loc[df['coluna'] > 10, ['coluna1', 'coluna2']] \n",
    "\n",
    "# 17. Exibir as primeiras linhas do DataFrame\n",
    "df_head = df.head(5)  \n",
    "\n",
    "# 18. Acessar os nomes das colunas do DataFrame\n",
    "colunas = df.columns.tolist() \n",
    "\n",
    "# 19. Reordenar a posição das colunas\n",
    "df = df[['Salario', 'Idade', 'Nome']]  \n",
    "\n",
    "# 20. Preenchendo vazios\n",
    "df['coluna'] = df['coluna'].fillna('o que você quiser')\n",
    "\n",
    "# 21. Removendo duplicadas\n",
    "df = df.drop_duplicates(subset=['coluna'])\n",
    "\n",
    "# 22. Transformando coluna para data\n",
    "df = pd.to_datetime(df['coluna'], origin = 'XXXX-XX-XX', unit='D')\n",
    "\n",
    "# 23. Colocando as letras inicias de palavras virarem maíusculas. Ex: gustavo camargo ---> Gustavo Camargo\n",
    "df['coluna'] = df['coluna'].str.title()\n",
    "\n",
    "# 24. Letras maiúsculas (Ex: sp --> SP)\n",
    "df['coluna'] = df['coluna'].str.upper()\n",
    "\n",
    "# 25. Letras minúsculas (Ex: SP --> sp)\n",
    "df['coluna'] = df['coluna'].str.lower()\n",
    "\n",
    "# 26. Dando um split em alguma coluna (Ex: São Paulo, UF ----> cria uma coluna para colocar São Paulo e outra UF)\n",
    "df['coluna'] = df['coluna'].str.split('delimitador')\n",
    "\n",
    "# 27. Juntar colunas \n",
    "df['Nome junto'] = df['Nome'] + ' ' + df['Sobrenome']\n",
    "\n",
    "# 28. Método describe para colunas numéricas. Dá mean,max,min,sum de uma vez\n",
    "df['coluna'].describe()"
   ]
  },
  {
   "cell_type": "markdown",
   "id": "c6119f9e-cdb2-4f2e-9118-d9036d358522",
   "metadata": {
    "jp-MarkdownHeadingCollapsed": true
   },
   "source": [
    "## Extração de Tabelas em PDFs"
   ]
  },
  {
   "cell_type": "code",
   "execution_count": null,
   "id": "f69cb59f-0563-4976-8ec7-6fde6b9e25aa",
   "metadata": {},
   "outputs": [],
   "source": [
    "pip install pdfplumber # Execute para baixar a bibloteca"
   ]
  },
  {
   "cell_type": "code",
   "execution_count": null,
   "id": "eef8bf5b-7a25-4d1e-a974-fcadcdf841ca",
   "metadata": {},
   "outputs": [],
   "source": [
    "pip install pandas # Execute para baixar a bibloteca"
   ]
  },
  {
   "cell_type": "markdown",
   "id": "795a9958-c9e9-4aba-9f16-589fda2f2de6",
   "metadata": {},
   "source": [
    "Se o pdf for só de páginas da mesma tabela"
   ]
  },
  {
   "cell_type": "code",
   "execution_count": null,
   "id": "6332bacb-0be3-4986-bf2f-aff2f6059d46",
   "metadata": {},
   "outputs": [],
   "source": [
    "import pdfplumber\n",
    "import pandas as pd\n",
    "\n",
    "\n",
    "pdf_path = \"caminho_do_arquivo.pdf\"\n",
    "dfs = []\n",
    "\n",
    "with pdfplumber.open(pdf_path) as pdf:\n",
    "    for page in pdf.pages:\n",
    "        table = page.extract_table()\n",
    "        \n",
    "        if table:\n",
    "            df = pd.DataFrame(table[1:], columns=table[0])\n",
    "            dfs.append(df)\n",
    "\n",
    "df_final = pd.concat(dfs, ignore_index=True)\n",
    "df_final.head()"
   ]
  },
  {
   "cell_type": "markdown",
   "id": "a1339eb8-1e5d-4241-8ce3-4d3213a25799",
   "metadata": {},
   "source": [
    "Se quiser pegar só de páginas específicas (Ex: Quando a tabela começa na página 1, na 2 tem uma propaganda que você não quer e a tabela continua na página 3)"
   ]
  },
  {
   "cell_type": "code",
   "execution_count": null,
   "id": "f1fd2be9-466f-475e-97fe-df5618737524",
   "metadata": {},
   "outputs": [],
   "source": [
    "import pdfplumber\n",
    "import pandas as pd\n",
    "\n",
    "pdf_path = \"caminho_do_arquivo.pdf\"\n",
    "dfs = []\n",
    "pages_with_tables = [48,50,51,52,53,54,55,56,57,58] # Digite o número das páginas\n",
    "\n",
    "with pdfplumber.open(pdf_path) as pdf:\n",
    "    for page_number in pages_with_tables:\n",
    "        page = pdf.pages[page_number - 1]  \n",
    "        table = page.extract_table()\n",
    "        \n",
    "        if table:\n",
    "            df = pd.DataFrame(table[1:], columns=table[0])\n",
    "            dfs.append(df)\n",
    "\n",
    "\n",
    "df_final = pd.concat(dfs, ignore_index=True)\n",
    "df_final.head()"
   ]
  },
  {
   "cell_type": "markdown",
   "id": "386081c1-e108-48a8-9eba-4a7d2ec789e7",
   "metadata": {},
   "source": [
    "Exportar para Excel"
   ]
  },
  {
   "cell_type": "code",
   "execution_count": null,
   "id": "1f0436fb-4b6d-4a87-b98c-e738c561783e",
   "metadata": {},
   "outputs": [],
   "source": [
    "df_final.to_excel(\"DigiteONomeQvcQuer.xlsx\", index=False)"
   ]
  },
  {
   "cell_type": "markdown",
   "id": "32717bac-c5bc-42e8-9390-c2ef2fa14e67",
   "metadata": {
    "jp-MarkdownHeadingCollapsed": true
   },
   "source": [
    "## Webscraping"
   ]
  },
  {
   "cell_type": "code",
   "execution_count": 22,
   "id": "f2daa5dd-9d21-4bf8-86e5-7dd62bb89e8d",
   "metadata": {},
   "outputs": [],
   "source": [
    "#pip install requests beautifulsoup4\n",
    "import requests\n",
    "from bs4 import BeautifulSoup"
   ]
  },
  {
   "cell_type": "code",
   "execution_count": null,
   "id": "c985e787-a4f9-4dec-8343-dca2cec62c65",
   "metadata": {},
   "outputs": [],
   "source": [
    "# URL do site\n",
    "url = \"https://www.globo.com/\"\n",
    "\n",
    "# Fazer a requisição para o site\n",
    "response = requests.get(url)\n",
    "\n",
    "# Verificar se a requisição foi bem-sucedida\n",
    "if response.status_code == 200:\n",
    "    \n",
    "    # Criar o objeto BeautifulSoup para fazer o parsing do HTML\n",
    "    soup = BeautifulSoup(response.content, 'html.parser')\n",
    "\n",
    "    # Exibir o HTML para analisar a estrutura (opcional)\n",
    "    #print(soup.prettify())\n",
    "else:\n",
    "    print(f\"Erro ao acessar o site: {response.status_code}\")\n",
    "\n",
    "# Ver se está dando certo\n",
    "h2_tag = soup.find_all('h2')\n",
    "h2_tag"
   ]
  },
  {
   "cell_type": "code",
   "execution_count": null,
   "id": "1883c5ea-88cf-4553-a3f9-598f397ef2e8",
   "metadata": {},
   "outputs": [],
   "source": [
    "# Listas para armazenar os dados\n",
    "titulos = []\n",
    "descricoes = []\n",
    "\n",
    "# Extrair os títulos e as descrições\n",
    "for noticia in soup.find_all('h2', class_='post__title'):\n",
    "    #print(noticia)\n",
    "    \n",
    "    titulo = noticia.text.strip()\n",
    "\n",
    "\n",
    "    if titulo:\n",
    "        titulos.append(titulo)\n",
    "\n",
    "# Exibir os resultados\n",
    "print(\"Títulos:\", titulos)"
   ]
  },
  {
   "cell_type": "code",
   "execution_count": null,
   "id": "258b0390-8d3c-4679-9a92-cc1f9ce4396f",
   "metadata": {},
   "outputs": [],
   "source": [
    "df = pd.DataFrame(titulos, columns=['Título'])\n",
    "df.head(5)"
   ]
  },
  {
   "cell_type": "code",
   "execution_count": null,
   "id": "980142b2-3e60-420a-8ee4-39234df636a4",
   "metadata": {},
   "outputs": [],
   "source": [
    "import pdfplumber\n",
    "import pandas as pd\n",
    "\n",
    "\n",
    "with pdfplumber.open(\"XXXX.pdf\") as pdf:\n",
    "    page = pdf.pages[X] # colocar o número da página \n",
    "    table = page.extract_table()\n",
    "\n",
    "df = pd.DataFrame(table[1:], columns=table[0])  \n",
    "df.to_excel(\"tabela_extraida.xlsx\", index=False)"
   ]
  }
 ],
 "metadata": {
  "kernelspec": {
   "display_name": "Python 3 (ipykernel)",
   "language": "python",
   "name": "python3"
  },
  "language_info": {
   "codemirror_mode": {
    "name": "ipython",
    "version": 3
   },
   "file_extension": ".py",
   "mimetype": "text/x-python",
   "name": "python",
   "nbconvert_exporter": "python",
   "pygments_lexer": "ipython3",
   "version": "3.12.4"
  }
 },
 "nbformat": 4,
 "nbformat_minor": 5
}
